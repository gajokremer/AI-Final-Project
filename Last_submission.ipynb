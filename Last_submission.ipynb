{
 "cells": [
  {
   "cell_type": "markdown",
   "metadata": {},
   "source": [
    "# Final Submission\n"
   ]
  },
  {
   "cell_type": "code",
   "execution_count": 31,
   "metadata": {},
   "outputs": [],
   "source": [
    "import pandas as pd\n",
    "import numpy as np\n",
    "import matplotlib.pyplot as plt\n",
    "import seaborn as sns"
   ]
  },
  {
   "cell_type": "markdown",
   "metadata": {},
   "source": [
    "# Data\n"
   ]
  },
  {
   "cell_type": "markdown",
   "metadata": {},
   "source": [
    "## Data Import\n"
   ]
  },
  {
   "cell_type": "code",
   "execution_count": 32,
   "metadata": {},
   "outputs": [],
   "source": [
    "df_csv = pd.read_csv(\"data/fma-rock-vs-hiphop.csv\")\n",
    "df_json = pd.read_json(\"data/echonest-metrics.json\", precise_float=True)\n",
    "df_additional = pd.read_csv(\"data/tcc_ceds_music.csv\")"
   ]
  },
  {
   "cell_type": "code",
   "execution_count": 33,
   "metadata": {},
   "outputs": [],
   "source": [
    "df_additional = df_additional[\n",
    "    (df_additional[\"genre\"] == \"rock\") | (df_additional[\"genre\"] == \"hip hop\")\n",
    "]\n",
    "\n",
    "df_additional[\"genre\"] = df_additional[\"genre\"].replace(\n",
    "    {\"rock\": \"Rock\", \"hip hop\": \"Hip-Hop\"}\n",
    ")"
   ]
  },
  {
   "cell_type": "code",
   "execution_count": 34,
   "metadata": {},
   "outputs": [
    {
     "data": {
      "text/plain": [
       "(4938, 32)"
      ]
     },
     "execution_count": 34,
     "metadata": {},
     "output_type": "execute_result"
    }
   ],
   "source": [
    "df_additional[\"track_id\"] = df_additional.index\n",
    "df_additional.shape"
   ]
  },
  {
   "cell_type": "code",
   "execution_count": 35,
   "metadata": {},
   "outputs": [
    {
     "data": {
      "text/html": [
       "<div>\n",
       "<style scoped>\n",
       "    .dataframe tbody tr th:only-of-type {\n",
       "        vertical-align: middle;\n",
       "    }\n",
       "\n",
       "    .dataframe tbody tr th {\n",
       "        vertical-align: top;\n",
       "    }\n",
       "\n",
       "    .dataframe thead th {\n",
       "        text-align: right;\n",
       "    }\n",
       "</style>\n",
       "<table border=\"1\" class=\"dataframe\">\n",
       "  <thead>\n",
       "    <tr style=\"text-align: right;\">\n",
       "      <th></th>\n",
       "      <th>Unnamed: 0</th>\n",
       "      <th>artist_name</th>\n",
       "      <th>track_name</th>\n",
       "      <th>release_date</th>\n",
       "      <th>genre</th>\n",
       "      <th>lyrics</th>\n",
       "      <th>len</th>\n",
       "      <th>dating</th>\n",
       "      <th>violence</th>\n",
       "      <th>world/life</th>\n",
       "      <th>...</th>\n",
       "      <th>feelings</th>\n",
       "      <th>danceability</th>\n",
       "      <th>loudness</th>\n",
       "      <th>acousticness</th>\n",
       "      <th>instrumentalness</th>\n",
       "      <th>valence</th>\n",
       "      <th>energy</th>\n",
       "      <th>topic</th>\n",
       "      <th>age</th>\n",
       "      <th>track_id</th>\n",
       "    </tr>\n",
       "  </thead>\n",
       "  <tbody>\n",
       "    <tr>\n",
       "      <th>23434</th>\n",
       "      <td>70345</td>\n",
       "      <td>ronnie self</td>\n",
       "      <td>big fool</td>\n",
       "      <td>1955</td>\n",
       "      <td>Rock</td>\n",
       "      <td>fool fool tell love walk fool fool drivin craz...</td>\n",
       "      <td>54</td>\n",
       "      <td>0.059256</td>\n",
       "      <td>0.000993</td>\n",
       "      <td>0.000993</td>\n",
       "      <td>...</td>\n",
       "      <td>0.000993</td>\n",
       "      <td>0.666414</td>\n",
       "      <td>0.756865</td>\n",
       "      <td>0.764056</td>\n",
       "      <td>0.000007</td>\n",
       "      <td>0.956719</td>\n",
       "      <td>0.720712</td>\n",
       "      <td>sadness</td>\n",
       "      <td>0.928571</td>\n",
       "      <td>23434</td>\n",
       "    </tr>\n",
       "    <tr>\n",
       "      <th>23435</th>\n",
       "      <td>70347</td>\n",
       "      <td>ronnie self</td>\n",
       "      <td>bop-a-lena</td>\n",
       "      <td>1955</td>\n",
       "      <td>Rock</td>\n",
       "      <td>gogalgo bopalena bopalena bopalena bopalena ye...</td>\n",
       "      <td>60</td>\n",
       "      <td>0.001949</td>\n",
       "      <td>0.001949</td>\n",
       "      <td>0.001949</td>\n",
       "      <td>...</td>\n",
       "      <td>0.001949</td>\n",
       "      <td>0.587350</td>\n",
       "      <td>0.852934</td>\n",
       "      <td>0.604417</td>\n",
       "      <td>0.006346</td>\n",
       "      <td>0.968054</td>\n",
       "      <td>0.941940</td>\n",
       "      <td>obscene</td>\n",
       "      <td>0.928571</td>\n",
       "      <td>23435</td>\n",
       "    </tr>\n",
       "    <tr>\n",
       "      <th>23436</th>\n",
       "      <td>70351</td>\n",
       "      <td>frankie laine</td>\n",
       "      <td>i heard the angels singing</td>\n",
       "      <td>1956</td>\n",
       "      <td>Rock</td>\n",
       "      <td>hear angels sing come sing come sing come hear...</td>\n",
       "      <td>123</td>\n",
       "      <td>0.301732</td>\n",
       "      <td>0.000532</td>\n",
       "      <td>0.000532</td>\n",
       "      <td>...</td>\n",
       "      <td>0.000532</td>\n",
       "      <td>0.650168</td>\n",
       "      <td>0.648078</td>\n",
       "      <td>0.758032</td>\n",
       "      <td>0.000000</td>\n",
       "      <td>0.930956</td>\n",
       "      <td>0.508493</td>\n",
       "      <td>music</td>\n",
       "      <td>0.914286</td>\n",
       "      <td>23436</td>\n",
       "    </tr>\n",
       "    <tr>\n",
       "      <th>23437</th>\n",
       "      <td>70352</td>\n",
       "      <td>frankie laine</td>\n",
       "      <td>i feel like my time ain't long</td>\n",
       "      <td>1956</td>\n",
       "      <td>Rock</td>\n",
       "      <td>bridge look idols think niggas gods right hand...</td>\n",
       "      <td>199</td>\n",
       "      <td>0.000516</td>\n",
       "      <td>0.073149</td>\n",
       "      <td>0.049564</td>\n",
       "      <td>...</td>\n",
       "      <td>0.000516</td>\n",
       "      <td>0.596014</td>\n",
       "      <td>0.632413</td>\n",
       "      <td>0.759036</td>\n",
       "      <td>0.000000</td>\n",
       "      <td>0.739283</td>\n",
       "      <td>0.460444</td>\n",
       "      <td>obscene</td>\n",
       "      <td>0.914286</td>\n",
       "      <td>23437</td>\n",
       "    </tr>\n",
       "    <tr>\n",
       "      <th>23438</th>\n",
       "      <td>70354</td>\n",
       "      <td>bill haley &amp; his comets</td>\n",
       "      <td>jamaica d.j.</td>\n",
       "      <td>1956</td>\n",
       "      <td>Rock</td>\n",
       "      <td>montego work work bother like kind work call s...</td>\n",
       "      <td>65</td>\n",
       "      <td>0.001032</td>\n",
       "      <td>0.001032</td>\n",
       "      <td>0.001032</td>\n",
       "      <td>...</td>\n",
       "      <td>0.001032</td>\n",
       "      <td>0.745478</td>\n",
       "      <td>0.690280</td>\n",
       "      <td>0.712851</td>\n",
       "      <td>0.000004</td>\n",
       "      <td>0.863974</td>\n",
       "      <td>0.833829</td>\n",
       "      <td>music</td>\n",
       "      <td>0.914286</td>\n",
       "      <td>23438</td>\n",
       "    </tr>\n",
       "  </tbody>\n",
       "</table>\n",
       "<p>5 rows × 32 columns</p>\n",
       "</div>"
      ],
      "text/plain": [
       "       Unnamed: 0              artist_name                      track_name  \\\n",
       "23434       70345              ronnie self                        big fool   \n",
       "23435       70347              ronnie self                      bop-a-lena   \n",
       "23436       70351            frankie laine      i heard the angels singing   \n",
       "23437       70352            frankie laine  i feel like my time ain't long   \n",
       "23438       70354  bill haley & his comets                    jamaica d.j.   \n",
       "\n",
       "       release_date genre                                             lyrics  \\\n",
       "23434          1955  Rock  fool fool tell love walk fool fool drivin craz...   \n",
       "23435          1955  Rock  gogalgo bopalena bopalena bopalena bopalena ye...   \n",
       "23436          1956  Rock  hear angels sing come sing come sing come hear...   \n",
       "23437          1956  Rock  bridge look idols think niggas gods right hand...   \n",
       "23438          1956  Rock  montego work work bother like kind work call s...   \n",
       "\n",
       "       len    dating  violence  world/life  ...  feelings  danceability  \\\n",
       "23434   54  0.059256  0.000993    0.000993  ...  0.000993      0.666414   \n",
       "23435   60  0.001949  0.001949    0.001949  ...  0.001949      0.587350   \n",
       "23436  123  0.301732  0.000532    0.000532  ...  0.000532      0.650168   \n",
       "23437  199  0.000516  0.073149    0.049564  ...  0.000516      0.596014   \n",
       "23438   65  0.001032  0.001032    0.001032  ...  0.001032      0.745478   \n",
       "\n",
       "       loudness  acousticness  instrumentalness   valence    energy    topic  \\\n",
       "23434  0.756865      0.764056          0.000007  0.956719  0.720712  sadness   \n",
       "23435  0.852934      0.604417          0.006346  0.968054  0.941940  obscene   \n",
       "23436  0.648078      0.758032          0.000000  0.930956  0.508493    music   \n",
       "23437  0.632413      0.759036          0.000000  0.739283  0.460444  obscene   \n",
       "23438  0.690280      0.712851          0.000004  0.863974  0.833829    music   \n",
       "\n",
       "            age  track_id  \n",
       "23434  0.928571     23434  \n",
       "23435  0.928571     23435  \n",
       "23436  0.914286     23436  \n",
       "23437  0.914286     23437  \n",
       "23438  0.914286     23438  \n",
       "\n",
       "[5 rows x 32 columns]"
      ]
     },
     "execution_count": 35,
     "metadata": {},
     "output_type": "execute_result"
    }
   ],
   "source": [
    "df_additional.head()"
   ]
  },
  {
   "cell_type": "markdown",
   "metadata": {},
   "source": [
    "## Data Combination\n"
   ]
  },
  {
   "cell_type": "code",
   "execution_count": 36,
   "metadata": {},
   "outputs": [],
   "source": [
    "column_mapping = {\n",
    "    \"track_name\": \"title\",\n",
    "    \"artist_name\": \"composer\",\n",
    "    \"genre\": \"genre_top\",\n",
    "}\n",
    "\n",
    "df_additional = df_additional.rename(columns=column_mapping)"
   ]
  },
  {
   "cell_type": "code",
   "execution_count": 37,
   "metadata": {},
   "outputs": [],
   "source": [
    "df_merge = pd.merge(df_csv, df_json, on=\"track_id\")\n",
    "\n",
    "df_combined = pd.concat([df_merge, df_additional])"
   ]
  },
  {
   "cell_type": "code",
   "execution_count": 38,
   "metadata": {},
   "outputs": [],
   "source": [
    "df_combined.shape\n",
    "new_music_data = df_combined"
   ]
  },
  {
   "cell_type": "markdown",
   "metadata": {},
   "source": [
    "## Column Removal\n"
   ]
  },
  {
   "cell_type": "code",
   "execution_count": 39,
   "metadata": {},
   "outputs": [
    {
     "name": "stdout",
     "output_type": "stream",
     "text": [
      "track_id                      0.0\n",
      "bit_rate                     51.0\n",
      "comments                     51.0\n",
      "composer                     48.0\n",
      "date_created                 51.0\n",
      "date_recorded                87.0\n",
      "duration                     51.0\n",
      "favorites                    51.0\n",
      "genre_top                     0.0\n",
      "genres                       51.0\n",
      "genres_all                   51.0\n",
      "information                  97.0\n",
      "interest                     51.0\n",
      "language_code                73.0\n",
      "license                      51.0\n",
      "listens                      51.0\n",
      "lyricist                    100.0\n",
      "number                       51.0\n",
      "publisher                   100.0\n",
      "tags                         51.0\n",
      "title                         0.0\n",
      "acousticness                  0.0\n",
      "danceability                  0.0\n",
      "energy                        0.0\n",
      "instrumentalness              0.0\n",
      "liveness                     51.0\n",
      "speechiness                  51.0\n",
      "tempo                        51.0\n",
      "valence                       0.0\n",
      "Unnamed: 0                   49.0\n",
      "release_date                 49.0\n",
      "lyrics                       49.0\n",
      "len                          49.0\n",
      "dating                       49.0\n",
      "violence                     49.0\n",
      "world/life                   49.0\n",
      "night/time                   49.0\n",
      "shake the audience           49.0\n",
      "family/gospel                49.0\n",
      "romantic                     49.0\n",
      "communication                49.0\n",
      "obscene                      49.0\n",
      "music                        49.0\n",
      "movement/places              49.0\n",
      "light/visual perceptions     49.0\n",
      "family/spiritual             49.0\n",
      "like/girls                   49.0\n",
      "sadness                      49.0\n",
      "feelings                     49.0\n",
      "loudness                     49.0\n",
      "topic                        49.0\n",
      "age                          49.0\n",
      "dtype: float64\n"
     ]
    }
   ],
   "source": [
    "missing_percentage = (new_music_data.isna().sum() / len(new_music_data)) * 100\n",
    "\n",
    "missing_percentage = missing_percentage.round(0)\n",
    "\n",
    "print(missing_percentage)"
   ]
  },
  {
   "cell_type": "code",
   "execution_count": 40,
   "metadata": {},
   "outputs": [],
   "source": [
    "threshold = 49\n",
    "\n",
    "columns_to_remove = missing_percentage[missing_percentage >= threshold].index\n",
    "\n",
    "new_music_data = new_music_data.drop(columns_to_remove, axis=1)"
   ]
  },
  {
   "cell_type": "code",
   "execution_count": 41,
   "metadata": {},
   "outputs": [
    {
     "data": {
      "text/plain": [
       "(9740, 9)"
      ]
     },
     "execution_count": 41,
     "metadata": {},
     "output_type": "execute_result"
    }
   ],
   "source": [
    "new_music_data.shape"
   ]
  },
  {
   "cell_type": "code",
   "execution_count": 42,
   "metadata": {},
   "outputs": [
    {
     "data": {
      "text/plain": [
       "<bound method DataFrame.info of       genre_top  acousticness  danceability    energy  instrumentalness  \\\n",
       "0          Rock      0.988306      0.255661  0.979774          0.973006   \n",
       "1          Rock      0.970135      0.352946  0.023852          0.957113   \n",
       "2          Rock      0.981657      0.142249  0.912122          0.967294   \n",
       "3          Rock      0.989141      0.225978  0.722835          0.263076   \n",
       "4          Rock      0.886660      0.298518  0.744333          0.920950   \n",
       "...         ...           ...           ...       ...               ...   \n",
       "28367   Hip-Hop      0.062549      0.889527  0.695686          0.000000   \n",
       "28368   Hip-Hop      0.004607      0.662082  0.797791          0.000002   \n",
       "28369   Hip-Hop      0.104417      0.663165  0.767761          0.000001   \n",
       "28370   Hip-Hop      0.007027      0.883028  0.885882          0.000503   \n",
       "28371   Hip-Hop      0.015862      0.828875  0.492477          0.000000   \n",
       "\n",
       "        valence  \n",
       "0      0.034018  \n",
       "1      0.035632  \n",
       "2      0.034325  \n",
       "3      0.028347  \n",
       "4      0.073548  \n",
       "...         ...  \n",
       "28367  0.751649  \n",
       "28368  0.922712  \n",
       "28369  0.838211  \n",
       "28370  0.508450  \n",
       "28371  0.475474  \n",
       "\n",
       "[9740 rows x 6 columns]>"
      ]
     },
     "execution_count": 42,
     "metadata": {},
     "output_type": "execute_result"
    }
   ],
   "source": [
    "new_music_data_clean = new_music_data.drop(columns=[\"track_id\", \"title\", \"composer\"])\n",
    "new_music_data_clean.info"
   ]
  },
  {
   "cell_type": "code",
   "execution_count": 43,
   "metadata": {},
   "outputs": [
    {
     "data": {
      "text/html": [
       "<div>\n",
       "<style scoped>\n",
       "    .dataframe tbody tr th:only-of-type {\n",
       "        vertical-align: middle;\n",
       "    }\n",
       "\n",
       "    .dataframe tbody tr th {\n",
       "        vertical-align: top;\n",
       "    }\n",
       "\n",
       "    .dataframe thead th {\n",
       "        text-align: right;\n",
       "    }\n",
       "</style>\n",
       "<table border=\"1\" class=\"dataframe\">\n",
       "  <thead>\n",
       "    <tr style=\"text-align: right;\">\n",
       "      <th></th>\n",
       "      <th>genre_top</th>\n",
       "      <th>acousticness</th>\n",
       "      <th>danceability</th>\n",
       "      <th>energy</th>\n",
       "      <th>instrumentalness</th>\n",
       "      <th>valence</th>\n",
       "    </tr>\n",
       "  </thead>\n",
       "  <tbody>\n",
       "    <tr>\n",
       "      <th>0</th>\n",
       "      <td>Rock</td>\n",
       "      <td>0.988306</td>\n",
       "      <td>0.255661</td>\n",
       "      <td>0.979774</td>\n",
       "      <td>0.973006</td>\n",
       "      <td>0.034018</td>\n",
       "    </tr>\n",
       "    <tr>\n",
       "      <th>1</th>\n",
       "      <td>Rock</td>\n",
       "      <td>0.970135</td>\n",
       "      <td>0.352946</td>\n",
       "      <td>0.023852</td>\n",
       "      <td>0.957113</td>\n",
       "      <td>0.035632</td>\n",
       "    </tr>\n",
       "    <tr>\n",
       "      <th>2</th>\n",
       "      <td>Rock</td>\n",
       "      <td>0.981657</td>\n",
       "      <td>0.142249</td>\n",
       "      <td>0.912122</td>\n",
       "      <td>0.967294</td>\n",
       "      <td>0.034325</td>\n",
       "    </tr>\n",
       "    <tr>\n",
       "      <th>3</th>\n",
       "      <td>Rock</td>\n",
       "      <td>0.989141</td>\n",
       "      <td>0.225978</td>\n",
       "      <td>0.722835</td>\n",
       "      <td>0.263076</td>\n",
       "      <td>0.028347</td>\n",
       "    </tr>\n",
       "    <tr>\n",
       "      <th>4</th>\n",
       "      <td>Rock</td>\n",
       "      <td>0.886660</td>\n",
       "      <td>0.298518</td>\n",
       "      <td>0.744333</td>\n",
       "      <td>0.920950</td>\n",
       "      <td>0.073548</td>\n",
       "    </tr>\n",
       "    <tr>\n",
       "      <th>...</th>\n",
       "      <td>...</td>\n",
       "      <td>...</td>\n",
       "      <td>...</td>\n",
       "      <td>...</td>\n",
       "      <td>...</td>\n",
       "      <td>...</td>\n",
       "    </tr>\n",
       "    <tr>\n",
       "      <th>28367</th>\n",
       "      <td>Hip-Hop</td>\n",
       "      <td>0.062549</td>\n",
       "      <td>0.889527</td>\n",
       "      <td>0.695686</td>\n",
       "      <td>0.000000</td>\n",
       "      <td>0.751649</td>\n",
       "    </tr>\n",
       "    <tr>\n",
       "      <th>28368</th>\n",
       "      <td>Hip-Hop</td>\n",
       "      <td>0.004607</td>\n",
       "      <td>0.662082</td>\n",
       "      <td>0.797791</td>\n",
       "      <td>0.000002</td>\n",
       "      <td>0.922712</td>\n",
       "    </tr>\n",
       "    <tr>\n",
       "      <th>28369</th>\n",
       "      <td>Hip-Hop</td>\n",
       "      <td>0.104417</td>\n",
       "      <td>0.663165</td>\n",
       "      <td>0.767761</td>\n",
       "      <td>0.000001</td>\n",
       "      <td>0.838211</td>\n",
       "    </tr>\n",
       "    <tr>\n",
       "      <th>28370</th>\n",
       "      <td>Hip-Hop</td>\n",
       "      <td>0.007027</td>\n",
       "      <td>0.883028</td>\n",
       "      <td>0.885882</td>\n",
       "      <td>0.000503</td>\n",
       "      <td>0.508450</td>\n",
       "    </tr>\n",
       "    <tr>\n",
       "      <th>28371</th>\n",
       "      <td>Hip-Hop</td>\n",
       "      <td>0.015862</td>\n",
       "      <td>0.828875</td>\n",
       "      <td>0.492477</td>\n",
       "      <td>0.000000</td>\n",
       "      <td>0.475474</td>\n",
       "    </tr>\n",
       "  </tbody>\n",
       "</table>\n",
       "<p>9740 rows × 6 columns</p>\n",
       "</div>"
      ],
      "text/plain": [
       "      genre_top  acousticness  danceability    energy  instrumentalness  \\\n",
       "0          Rock      0.988306      0.255661  0.979774          0.973006   \n",
       "1          Rock      0.970135      0.352946  0.023852          0.957113   \n",
       "2          Rock      0.981657      0.142249  0.912122          0.967294   \n",
       "3          Rock      0.989141      0.225978  0.722835          0.263076   \n",
       "4          Rock      0.886660      0.298518  0.744333          0.920950   \n",
       "...         ...           ...           ...       ...               ...   \n",
       "28367   Hip-Hop      0.062549      0.889527  0.695686          0.000000   \n",
       "28368   Hip-Hop      0.004607      0.662082  0.797791          0.000002   \n",
       "28369   Hip-Hop      0.104417      0.663165  0.767761          0.000001   \n",
       "28370   Hip-Hop      0.007027      0.883028  0.885882          0.000503   \n",
       "28371   Hip-Hop      0.015862      0.828875  0.492477          0.000000   \n",
       "\n",
       "        valence  \n",
       "0      0.034018  \n",
       "1      0.035632  \n",
       "2      0.034325  \n",
       "3      0.028347  \n",
       "4      0.073548  \n",
       "...         ...  \n",
       "28367  0.751649  \n",
       "28368  0.922712  \n",
       "28369  0.838211  \n",
       "28370  0.508450  \n",
       "28371  0.475474  \n",
       "\n",
       "[9740 rows x 6 columns]"
      ]
     },
     "execution_count": 43,
     "metadata": {},
     "output_type": "execute_result"
    }
   ],
   "source": [
    "new_music_data_clean"
   ]
  },
  {
   "cell_type": "code",
   "execution_count": 44,
   "metadata": {},
   "outputs": [
    {
     "data": {
      "text/html": [
       "<div>\n",
       "<style scoped>\n",
       "    .dataframe tbody tr th:only-of-type {\n",
       "        vertical-align: middle;\n",
       "    }\n",
       "\n",
       "    .dataframe tbody tr th {\n",
       "        vertical-align: top;\n",
       "    }\n",
       "\n",
       "    .dataframe thead th {\n",
       "        text-align: right;\n",
       "    }\n",
       "</style>\n",
       "<table border=\"1\" class=\"dataframe\">\n",
       "  <thead>\n",
       "    <tr style=\"text-align: right;\">\n",
       "      <th></th>\n",
       "      <th>genre_top</th>\n",
       "      <th>acousticness</th>\n",
       "      <th>danceability</th>\n",
       "      <th>energy</th>\n",
       "      <th>instrumentalness</th>\n",
       "      <th>valence</th>\n",
       "    </tr>\n",
       "  </thead>\n",
       "  <tbody>\n",
       "    <tr>\n",
       "      <th>0</th>\n",
       "      <td>Rock</td>\n",
       "      <td>0.988306</td>\n",
       "      <td>0.255661</td>\n",
       "      <td>0.979774</td>\n",
       "      <td>0.973006</td>\n",
       "      <td>0.034018</td>\n",
       "    </tr>\n",
       "    <tr>\n",
       "      <th>1</th>\n",
       "      <td>Rock</td>\n",
       "      <td>0.970135</td>\n",
       "      <td>0.352946</td>\n",
       "      <td>0.023852</td>\n",
       "      <td>0.957113</td>\n",
       "      <td>0.035632</td>\n",
       "    </tr>\n",
       "    <tr>\n",
       "      <th>2</th>\n",
       "      <td>Rock</td>\n",
       "      <td>0.981657</td>\n",
       "      <td>0.142249</td>\n",
       "      <td>0.912122</td>\n",
       "      <td>0.967294</td>\n",
       "      <td>0.034325</td>\n",
       "    </tr>\n",
       "    <tr>\n",
       "      <th>3</th>\n",
       "      <td>Rock</td>\n",
       "      <td>0.989141</td>\n",
       "      <td>0.225978</td>\n",
       "      <td>0.722835</td>\n",
       "      <td>0.263076</td>\n",
       "      <td>0.028347</td>\n",
       "    </tr>\n",
       "    <tr>\n",
       "      <th>4</th>\n",
       "      <td>Rock</td>\n",
       "      <td>0.886660</td>\n",
       "      <td>0.298518</td>\n",
       "      <td>0.744333</td>\n",
       "      <td>0.920950</td>\n",
       "      <td>0.073548</td>\n",
       "    </tr>\n",
       "    <tr>\n",
       "      <th>...</th>\n",
       "      <td>...</td>\n",
       "      <td>...</td>\n",
       "      <td>...</td>\n",
       "      <td>...</td>\n",
       "      <td>...</td>\n",
       "      <td>...</td>\n",
       "    </tr>\n",
       "    <tr>\n",
       "      <th>27463</th>\n",
       "      <td>Rock</td>\n",
       "      <td>0.035943</td>\n",
       "      <td>0.508285</td>\n",
       "      <td>0.912910</td>\n",
       "      <td>0.008796</td>\n",
       "      <td>0.722795</td>\n",
       "    </tr>\n",
       "    <tr>\n",
       "      <th>27464</th>\n",
       "      <td>Rock</td>\n",
       "      <td>0.000485</td>\n",
       "      <td>0.432470</td>\n",
       "      <td>0.766759</td>\n",
       "      <td>0.000057</td>\n",
       "      <td>0.386851</td>\n",
       "    </tr>\n",
       "    <tr>\n",
       "      <th>27465</th>\n",
       "      <td>Rock</td>\n",
       "      <td>0.071585</td>\n",
       "      <td>0.507202</td>\n",
       "      <td>0.731723</td>\n",
       "      <td>0.000003</td>\n",
       "      <td>0.372424</td>\n",
       "    </tr>\n",
       "    <tr>\n",
       "      <th>27466</th>\n",
       "      <td>Rock</td>\n",
       "      <td>0.336345</td>\n",
       "      <td>0.701072</td>\n",
       "      <td>0.462446</td>\n",
       "      <td>0.000015</td>\n",
       "      <td>0.486810</td>\n",
       "    </tr>\n",
       "    <tr>\n",
       "      <th>27467</th>\n",
       "      <td>Rock</td>\n",
       "      <td>0.021987</td>\n",
       "      <td>0.612260</td>\n",
       "      <td>0.527513</td>\n",
       "      <td>0.000000</td>\n",
       "      <td>0.277617</td>\n",
       "    </tr>\n",
       "  </tbody>\n",
       "</table>\n",
       "<p>7926 rows × 6 columns</p>\n",
       "</div>"
      ],
      "text/plain": [
       "      genre_top  acousticness  danceability    energy  instrumentalness  \\\n",
       "0          Rock      0.988306      0.255661  0.979774          0.973006   \n",
       "1          Rock      0.970135      0.352946  0.023852          0.957113   \n",
       "2          Rock      0.981657      0.142249  0.912122          0.967294   \n",
       "3          Rock      0.989141      0.225978  0.722835          0.263076   \n",
       "4          Rock      0.886660      0.298518  0.744333          0.920950   \n",
       "...         ...           ...           ...       ...               ...   \n",
       "27463      Rock      0.035943      0.508285  0.912910          0.008796   \n",
       "27464      Rock      0.000485      0.432470  0.766759          0.000057   \n",
       "27465      Rock      0.071585      0.507202  0.731723          0.000003   \n",
       "27466      Rock      0.336345      0.701072  0.462446          0.000015   \n",
       "27467      Rock      0.021987      0.612260  0.527513          0.000000   \n",
       "\n",
       "        valence  \n",
       "0      0.034018  \n",
       "1      0.035632  \n",
       "2      0.034325  \n",
       "3      0.028347  \n",
       "4      0.073548  \n",
       "...         ...  \n",
       "27463  0.722795  \n",
       "27464  0.386851  \n",
       "27465  0.372424  \n",
       "27466  0.486810  \n",
       "27467  0.277617  \n",
       "\n",
       "[7926 rows x 6 columns]"
      ]
     },
     "execution_count": 44,
     "metadata": {},
     "output_type": "execute_result"
    }
   ],
   "source": [
    "# show all rock\n",
    "new_music_data_clean[new_music_data_clean[\"genre_top\"] == \"Rock\"]"
   ]
  },
  {
   "cell_type": "code",
   "execution_count": 45,
   "metadata": {},
   "outputs": [
    {
     "data": {
      "text/html": [
       "<div>\n",
       "<style scoped>\n",
       "    .dataframe tbody tr th:only-of-type {\n",
       "        vertical-align: middle;\n",
       "    }\n",
       "\n",
       "    .dataframe tbody tr th {\n",
       "        vertical-align: top;\n",
       "    }\n",
       "\n",
       "    .dataframe thead th {\n",
       "        text-align: right;\n",
       "    }\n",
       "</style>\n",
       "<table border=\"1\" class=\"dataframe\">\n",
       "  <thead>\n",
       "    <tr style=\"text-align: right;\">\n",
       "      <th></th>\n",
       "      <th>genre_top</th>\n",
       "      <th>acousticness</th>\n",
       "      <th>danceability</th>\n",
       "      <th>energy</th>\n",
       "      <th>instrumentalness</th>\n",
       "      <th>valence</th>\n",
       "    </tr>\n",
       "  </thead>\n",
       "  <tbody>\n",
       "    <tr>\n",
       "      <th>3892</th>\n",
       "      <td>Hip-Hop</td>\n",
       "      <td>0.416675</td>\n",
       "      <td>0.675894</td>\n",
       "      <td>0.634476</td>\n",
       "      <td>0.010628</td>\n",
       "      <td>0.576661</td>\n",
       "    </tr>\n",
       "    <tr>\n",
       "      <th>3893</th>\n",
       "      <td>Hip-Hop</td>\n",
       "      <td>0.374408</td>\n",
       "      <td>0.528643</td>\n",
       "      <td>0.817461</td>\n",
       "      <td>0.001851</td>\n",
       "      <td>0.269240</td>\n",
       "    </tr>\n",
       "    <tr>\n",
       "      <th>3894</th>\n",
       "      <td>Hip-Hop</td>\n",
       "      <td>0.043567</td>\n",
       "      <td>0.745566</td>\n",
       "      <td>0.701470</td>\n",
       "      <td>0.000697</td>\n",
       "      <td>0.621661</td>\n",
       "    </tr>\n",
       "    <tr>\n",
       "      <th>3895</th>\n",
       "      <td>Hip-Hop</td>\n",
       "      <td>0.452217</td>\n",
       "      <td>0.513238</td>\n",
       "      <td>0.560410</td>\n",
       "      <td>0.019443</td>\n",
       "      <td>0.894072</td>\n",
       "    </tr>\n",
       "    <tr>\n",
       "      <th>3896</th>\n",
       "      <td>Hip-Hop</td>\n",
       "      <td>0.748986</td>\n",
       "      <td>0.765886</td>\n",
       "      <td>0.513173</td>\n",
       "      <td>0.957209</td>\n",
       "      <td>0.401672</td>\n",
       "    </tr>\n",
       "    <tr>\n",
       "      <th>...</th>\n",
       "      <td>...</td>\n",
       "      <td>...</td>\n",
       "      <td>...</td>\n",
       "      <td>...</td>\n",
       "      <td>...</td>\n",
       "      <td>...</td>\n",
       "    </tr>\n",
       "    <tr>\n",
       "      <th>28367</th>\n",
       "      <td>Hip-Hop</td>\n",
       "      <td>0.062549</td>\n",
       "      <td>0.889527</td>\n",
       "      <td>0.695686</td>\n",
       "      <td>0.000000</td>\n",
       "      <td>0.751649</td>\n",
       "    </tr>\n",
       "    <tr>\n",
       "      <th>28368</th>\n",
       "      <td>Hip-Hop</td>\n",
       "      <td>0.004607</td>\n",
       "      <td>0.662082</td>\n",
       "      <td>0.797791</td>\n",
       "      <td>0.000002</td>\n",
       "      <td>0.922712</td>\n",
       "    </tr>\n",
       "    <tr>\n",
       "      <th>28369</th>\n",
       "      <td>Hip-Hop</td>\n",
       "      <td>0.104417</td>\n",
       "      <td>0.663165</td>\n",
       "      <td>0.767761</td>\n",
       "      <td>0.000001</td>\n",
       "      <td>0.838211</td>\n",
       "    </tr>\n",
       "    <tr>\n",
       "      <th>28370</th>\n",
       "      <td>Hip-Hop</td>\n",
       "      <td>0.007027</td>\n",
       "      <td>0.883028</td>\n",
       "      <td>0.885882</td>\n",
       "      <td>0.000503</td>\n",
       "      <td>0.508450</td>\n",
       "    </tr>\n",
       "    <tr>\n",
       "      <th>28371</th>\n",
       "      <td>Hip-Hop</td>\n",
       "      <td>0.015862</td>\n",
       "      <td>0.828875</td>\n",
       "      <td>0.492477</td>\n",
       "      <td>0.000000</td>\n",
       "      <td>0.475474</td>\n",
       "    </tr>\n",
       "  </tbody>\n",
       "</table>\n",
       "<p>1814 rows × 6 columns</p>\n",
       "</div>"
      ],
      "text/plain": [
       "      genre_top  acousticness  danceability    energy  instrumentalness  \\\n",
       "3892    Hip-Hop      0.416675      0.675894  0.634476          0.010628   \n",
       "3893    Hip-Hop      0.374408      0.528643  0.817461          0.001851   \n",
       "3894    Hip-Hop      0.043567      0.745566  0.701470          0.000697   \n",
       "3895    Hip-Hop      0.452217      0.513238  0.560410          0.019443   \n",
       "3896    Hip-Hop      0.748986      0.765886  0.513173          0.957209   \n",
       "...         ...           ...           ...       ...               ...   \n",
       "28367   Hip-Hop      0.062549      0.889527  0.695686          0.000000   \n",
       "28368   Hip-Hop      0.004607      0.662082  0.797791          0.000002   \n",
       "28369   Hip-Hop      0.104417      0.663165  0.767761          0.000001   \n",
       "28370   Hip-Hop      0.007027      0.883028  0.885882          0.000503   \n",
       "28371   Hip-Hop      0.015862      0.828875  0.492477          0.000000   \n",
       "\n",
       "        valence  \n",
       "3892   0.576661  \n",
       "3893   0.269240  \n",
       "3894   0.621661  \n",
       "3895   0.894072  \n",
       "3896   0.401672  \n",
       "...         ...  \n",
       "28367  0.751649  \n",
       "28368  0.922712  \n",
       "28369  0.838211  \n",
       "28370  0.508450  \n",
       "28371  0.475474  \n",
       "\n",
       "[1814 rows x 6 columns]"
      ]
     },
     "execution_count": 45,
     "metadata": {},
     "output_type": "execute_result"
    }
   ],
   "source": [
    "new_music_data_clean[new_music_data_clean[\"genre_top\"] == \"Hip-Hop\"]"
   ]
  },
  {
   "cell_type": "markdown",
   "metadata": {},
   "source": [
    "## Split\n"
   ]
  },
  {
   "cell_type": "code",
   "execution_count": 46,
   "metadata": {},
   "outputs": [],
   "source": [
    "# Define our features (assuming your DataFrame is named new_music_data_clean and the labels column is 'genre_top')\n",
    "features = new_music_data_clean.drop([\"genre_top\"], axis=1)\n",
    "\n",
    "# Define our labels (assuming your DataFrame is named new_music_data_clean and the labels column is 'genre_top')\n",
    "labels = new_music_data_clean[\"genre_top\"]\n",
    "\n",
    "# Import the necessary libraries\n",
    "from sklearn.preprocessing import StandardScaler\n",
    "from sklearn.decomposition import PCA\n",
    "from sklearn.model_selection import train_test_split\n",
    "\n",
    "train_features, test_features, train_labels, test_labels = train_test_split(\n",
    "    features,\n",
    "    labels,\n",
    "    test_size=0.2,\n",
    "    random_state=42,\n",
    "    stratify=labels,\n",
    ")"
   ]
  },
  {
   "cell_type": "code",
   "execution_count": 47,
   "metadata": {},
   "outputs": [
    {
     "data": {
      "text/plain": [
       "genre_top\n",
       "Rock       6341\n",
       "Hip-Hop    1451\n",
       "Name: count, dtype: int64"
      ]
     },
     "execution_count": 47,
     "metadata": {},
     "output_type": "execute_result"
    }
   ],
   "source": [
    "# get train percentage\n",
    "type(train_labels)\n",
    "train_labels.nunique()\n",
    "train_labels.value_counts()"
   ]
  },
  {
   "cell_type": "markdown",
   "metadata": {},
   "source": [
    "## Smote\n"
   ]
  },
  {
   "cell_type": "code",
   "execution_count": 48,
   "metadata": {},
   "outputs": [],
   "source": [
    "# smote\n",
    "from imblearn.over_sampling import SMOTE\n",
    "\n",
    "# Define SMOTE\n",
    "sm = SMOTE(random_state=42)\n",
    "\n",
    "# Fit SMOTE on training data\n",
    "train_features_res, train_labels_res = sm.fit_resample(train_features, train_labels)"
   ]
  },
  {
   "cell_type": "markdown",
   "metadata": {},
   "source": [
    "## Scaling\n"
   ]
  },
  {
   "cell_type": "code",
   "execution_count": 49,
   "metadata": {},
   "outputs": [],
   "source": [
    "# Scale the features and store the values in a new variable\n",
    "scaler = StandardScaler()\n",
    "scaled_train_features = scaler.fit_transform(train_features)\n",
    "scaled_train_features_res = scaler.fit_transform(train_features_res)\n",
    "scaled_test_features = scaler.transform(test_features)"
   ]
  },
  {
   "cell_type": "markdown",
   "metadata": {},
   "source": [
    "## PCA\n"
   ]
  },
  {
   "cell_type": "code",
   "execution_count": null,
   "metadata": {},
   "outputs": [],
   "source": []
  },
  {
   "cell_type": "markdown",
   "metadata": {},
   "source": [
    "## KNN\n"
   ]
  },
  {
   "cell_type": "code",
   "execution_count": 50,
   "metadata": {},
   "outputs": [
    {
     "name": "stdout",
     "output_type": "stream",
     "text": [
      "(7792, 5)\n",
      "(12682, 5)\n",
      "(7792, 5)\n"
     ]
    }
   ],
   "source": [
    "print(train_features.shape)\n",
    "print(scaled_train_features_res.shape)\n",
    "print(scaled_train_features.shape)"
   ]
  },
  {
   "cell_type": "markdown",
   "metadata": {},
   "source": [
    "### Pipeline\n"
   ]
  },
  {
   "cell_type": "code",
   "execution_count": 51,
   "metadata": {},
   "outputs": [],
   "source": [
    "from sklearn.pipeline import Pipeline\n",
    "from sklearn.preprocessing import StandardScaler\n",
    "from sklearn.neighbors import KNeighborsClassifier\n",
    "from sklearn.model_selection import GridSearchCV\n",
    "\n",
    "# Assuming you have your training data in 'train_features' and 'train_labels'\n",
    "# and your test data in 'test_features' and 'test_labels'\n",
    "\n",
    "# Define the model as the K-Nearest Neighbors classifier and fit the model to the data.\n",
    "knn = KNeighborsClassifier()\n",
    "\n",
    "# Define the pipeline steps. The data will first be scaled and then passed to the kNN classifier.\n",
    "steps = [(\"scaler\", StandardScaler()), (\"knn\", KNeighborsClassifier())]\n",
    "pipeline = Pipeline(steps)\n",
    "\n",
    "# Define the hyperparameter configuration space.\n",
    "parameters = {\n",
    "    \"knn__n_neighbors\": np.arange(1, 25),\n",
    "    \"knn__weights\": [\"uniform\", \"distance\"],\n",
    "    \"knn__metric\": [\"euclidean\", \"manhattan\", \"minkowski\"],\n",
    "}\n",
    "\n",
    "# Create the GridSearchCV object with 5-fold cross-validation.\n",
    "best_model_knn = GridSearchCV(pipeline, param_grid=parameters, cv=5)\n",
    "\n",
    "# Fit the model to the training set. Make sure the training features are not pre-scaled.\n",
    "best_model_knn.fit(train_features, train_labels)\n",
    "\n",
    "# Predict the labels of the test set: y_pred\n",
    "y_pred = best_model_knn.predict(test_features)"
   ]
  },
  {
   "cell_type": "markdown",
   "metadata": {},
   "source": [
    "### Metrics\n"
   ]
  },
  {
   "cell_type": "code",
   "execution_count": 52,
   "metadata": {},
   "outputs": [
    {
     "name": "stdout",
     "output_type": "stream",
     "text": [
      "Accuracy: 0.86652977412731\n",
      "              precision    recall  f1-score   support\n",
      "\n",
      "     Hip-Hop       0.72      0.50      0.59       363\n",
      "        Rock       0.89      0.96      0.92      1585\n",
      "\n",
      "    accuracy                           0.87      1948\n",
      "   macro avg       0.81      0.73      0.76      1948\n",
      "weighted avg       0.86      0.87      0.86      1948\n",
      "\n",
      "Tuned Model Parameters: {'knn__metric': 'manhattan', 'knn__n_neighbors': 19, 'knn__weights': 'distance'}\n"
     ]
    },
    {
     "name": "stderr",
     "output_type": "stream",
     "text": [
      "/Users/gajokremer/Documents/Career/Semester_VII/Artificial_Intelligence/AI-Final-Project/env/lib/python3.12/site-packages/sklearn/base.py:465: UserWarning: X does not have valid feature names, but StandardScaler was fitted with feature names\n",
      "  warnings.warn(\n"
     ]
    }
   ],
   "source": [
    "# Compute and print metrics\n",
    "from sklearn.metrics import classification_report\n",
    "\n",
    "\n",
    "print(\"Accuracy: {}\".format(best_model_knn.score(scaled_test_features, test_labels)))\n",
    "print(classification_report(test_labels, y_pred))\n",
    "print(\"Tuned Model Parameters: {}\".format(best_model_knn.best_params_))\n",
    "\n",
    "\n",
    "# # Evaluate the model\n",
    "# from sklearn.metrics import accuracy_score, classification_report, confusion_matrix\n",
    "\n",
    "# # Assuming you have the actual labels for the test set in 'test_labels'\n",
    "# print(\"Accuracy:\", accuracy_score(test_labels, y_pred))\n",
    "# print(\"Classification Report:\\n\", classification_report(test_labels, y_pred))\n",
    "# print(\"Confusion Matrix:\\n\", confusion_matrix(test_labels, y_pred))\n",
    "# print(\"Tuned Model Parameters: {}\".format(best_model_knn.best_params_))"
   ]
  },
  {
   "cell_type": "code",
   "execution_count": 53,
   "metadata": {},
   "outputs": [
    {
     "name": "stdout",
     "output_type": "stream",
     "text": [
      "[[ 181  182]\n",
      " [  71 1514]]\n"
     ]
    },
    {
     "data": {
      "image/png": "[encoded data removed]",
      "text/plain": [
       "<Figure size 1000x1000 with 1 Axes>"
      ]
     },
     "metadata": {},
     "output_type": "display_data"
    }
   ],
   "source": [
    "from sklearn.metrics import confusion_matrix\n",
    "\n",
    "\n",
    "print(confusion_matrix(test_labels, y_pred))\n",
    "\n",
    "# print the confusion matrix using seaborn\n",
    "\n",
    "cm = confusion_matrix(test_labels, y_pred)\n",
    "\n",
    "plt.figure(figsize=(10, 10))\n",
    "sns.heatmap(cm, annot=True, fmt=\"d\", cmap=\"Blues\", cbar=False)\n",
    "plt.xlabel(\"Predicted\")\n",
    "plt.ylabel(\"Actual\")\n",
    "plt.show()"
   ]
  },
  {
   "cell_type": "code",
   "execution_count": 54,
   "metadata": {},
   "outputs": [
    {
     "name": "stderr",
     "output_type": "stream",
     "text": [
      "/Users/gajokremer/Documents/Career/Semester_VII/Artificial_Intelligence/AI-Final-Project/env/lib/python3.12/site-packages/sklearn/base.py:465: UserWarning: X does not have valid feature names, but StandardScaler was fitted with feature names\n",
      "  warnings.warn(\n"
     ]
    },
    {
     "data": {
      "text/plain": [
       "array([[  0.        , 100.        ],\n",
       "       [  0.        , 100.        ],\n",
       "       [ 68.22204873,  31.77795127],\n",
       "       ...,\n",
       "       [  0.        , 100.        ],\n",
       "       [  0.        , 100.        ],\n",
       "       [ 20.34809669,  79.65190331]])"
      ]
     },
     "execution_count": 54,
     "metadata": {},
     "output_type": "execute_result"
    }
   ],
   "source": [
    "best_model_knn.predict_proba(scaled_train_features_res) * 100"
   ]
  },
  {
   "cell_type": "code",
   "execution_count": 55,
   "metadata": {},
   "outputs": [
    {
     "name": "stderr",
     "output_type": "stream",
     "text": [
      "/Users/gajokremer/Documents/Career/Semester_VII/Artificial_Intelligence/AI-Final-Project/env/lib/python3.12/site-packages/sklearn/base.py:465: UserWarning: X does not have valid feature names, but StandardScaler was fitted with feature names\n",
      "  warnings.warn(\n"
     ]
    },
    {
     "data": {
      "image/png": "[encoded data removed]",
      "text/plain": [
       "<Figure size 640x480 with 1 Axes>"
      ]
     },
     "metadata": {},
     "output_type": "display_data"
    }
   ],
   "source": [
    "# roc curve for rock and hip hop\n",
    "from sklearn.metrics import roc_curve\n",
    "\n",
    "y_pred_prob = best_model_knn.predict_proba(scaled_test_features)[:, 1]\n",
    "\n",
    "fpr, tpr, thresholds = roc_curve(test_labels, y_pred_prob, pos_label=\"Hip-Hop\")\n",
    "\n",
    "plt.plot(tpr, fpr, color=\"red\", label=\"ROC\")\n",
    "plt.plot([0, 1], [0, 1], color=\"darkblue\", linestyle=\"--\")\n",
    "plt.xlabel(\"False Positive Rate\")\n",
    "plt.ylabel(\"True Positive Rate\")\n",
    "plt.title(\"ROC Curve\")\n",
    "plt.legend()\n",
    "plt.show()"
   ]
  },
  {
   "cell_type": "code",
   "execution_count": 56,
   "metadata": {},
   "outputs": [],
   "source": [
    "# Esta función maximiza el TPR y minimiza el FPR\n",
    "def umbral_optimo(y_prob, y, ths):\n",
    "    y_prob_c1 = y_prob[:, 1]\n",
    "    roc = []\n",
    "    for j in range(len(ths)):\n",
    "        y_pred = np.zeros(len(y_prob_c1))\n",
    "        for i in range(len(y_prob_c1)):\n",
    "            if y_prob_c1[i] >= ths[j]:\n",
    "                y_pred[i] = 1\n",
    "        cm = confusion_matrix(y, y_pred)\n",
    "        TP = cm[1, 1]\n",
    "        TN = cm[0, 0]\n",
    "        FP = cm[0, 1]\n",
    "        FN = cm[1, 0]\n",
    "        TPR = TP / (TP + FN)\n",
    "        FPR = FP / (FP + TN)\n",
    "        roc.append((TPR, FPR, ths[j]))\n",
    "\n",
    "    roc = np.array(roc)\n",
    "\n",
    "    distance_to_top_left_corner = []\n",
    "\n",
    "    for i in range(len(roc)):\n",
    "        distance_to_top_left_corner.append(\n",
    "            np.sqrt(((roc[i, 1] - 0) ** 2) + ((roc[i, 0] - 1) ** 2))\n",
    "        )\n",
    "\n",
    "    index_of_best_threshold = distance_to_top_left_corner.index(\n",
    "        min(distance_to_top_left_corner)\n",
    "    )  # Retorna el índice con la menor distancia\n",
    "    best_threshold = ths[index_of_best_threshold]\n",
    "    # print('El mejor umbral para el conjunto de validación es {:.4f}.'.format(best_threshold))\n",
    "    return best_threshold"
   ]
  },
  {
   "cell_type": "code",
   "execution_count": 57,
   "metadata": {},
   "outputs": [
    {
     "name": "stderr",
     "output_type": "stream",
     "text": [
      "/Users/gajokremer/Documents/Career/Semester_VII/Artificial_Intelligence/AI-Final-Project/env/lib/python3.12/site-packages/sklearn/base.py:465: UserWarning: X does not have valid feature names, but StandardScaler was fitted with feature names\n",
      "  warnings.warn(\n"
     ]
    },
    {
     "name": "stdout",
     "output_type": "stream",
     "text": [
      "El mejor umbral es 0.9477.\n"
     ]
    }
   ],
   "source": [
    "binary_train_labels_res = train_labels_res.replace({\"Hip-Hop\": 0, \"Rock\": 1})\n",
    "\n",
    "y_pred_train_proba_res = best_model_knn.predict_proba(scaled_train_features_res)\n",
    "\n",
    "best_th = umbral_optimo(y_pred_train_proba_res, binary_train_labels_res, thresholds)\n",
    "print(\"El mejor umbral es {:.4f}.\".format(best_th))"
   ]
  },
  {
   "cell_type": "code",
   "execution_count": null,
   "metadata": {},
   "outputs": [],
   "source": []
  }
 ],
 "metadata": {
  "kernelspec": {
   "display_name": "env",
   "language": "python",
   "name": "python3"
  },
  "language_info": {
   "codemirror_mode": {
    "name": "ipython",
    "version": 3
   },
   "file_extension": ".py",
   "mimetype": "text/x-python",
   "name": "python",
   "nbconvert_exporter": "python",
   "pygments_lexer": "ipython3",
   "version": "3.12.0"
  }
 },
 "nbformat": 4,
 "nbformat_minor": 2
}
